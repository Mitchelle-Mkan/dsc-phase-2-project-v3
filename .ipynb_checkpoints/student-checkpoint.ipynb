{
 "cells": [
  {
   "cell_type": "markdown",
   "metadata": {},
   "source": [
    "## Final Project Submission\n",
    "\n",
    "Please fill out:\n",
    "* Student name: Godfrey Osundwa, Mitchel Mkan, Lameck Odallo, Elizabeth Kiilu\n",
    "* Student pace: self paced / part time / full time\n",
    "* Scheduled project review date/time: \n",
    "* Instructor name: \n",
    "* Blog post URL:\n"
   ]
  },
  {
   "cell_type": "markdown",
   "metadata": {},
   "source": [
    "**Beginning**\n",
    "\n",
    "The global film industry is one of the most influential and profitable entertainment sectors, generating billions of dollars annually across theaters, streaming, and merchandising. As audience preferences evolve and competition intensifies, studios and investors must carefully evaluate what drives box office success. This project explores key factors such as **genre trends, studio performance, audience ratings, and blockbuster economics** to identify patterns and opportunities in global cinema revenues."
   ]
  },
  {
   "cell_type": "markdown",
   "metadata": {},
   "source": [
    "**Overview**\n",
    "\n",
    "This analysis examines worldwide gross earnings of films across multiple genres, studios, and years, complemented by viewer ratings from IMDb,TMDB, BOM and RT. By combining descriptive analytics, trend visualization, and correlation analysis, the project seeks to uncover:\n",
    "\n",
    "  **Which genres consistently generate the highest revenue.**\n",
    "\n",
    "  **How studios differ in performance across genres.**\n",
    "\n",
    "  **The role of ratings (quality perception) versus franchise power in determining box office success.**\n",
    "\n",
    " **The impact of blockbuster outliers on overall market dynamics.**\n",
    "\n",
    "The findings provide both strategic insights for major studios looking to maximize global returns and practical guidance for smaller studios seeking to identify profitable niches."
   ]
  },
  {
   "cell_type": "markdown",
   "metadata": {},
   "source": [
    "**Business Understanding**\n",
    "\n",
    "The central business problem addressed is:\n",
    "**“What factors most strongly influence worldwide box office performance, and how can studios optimize production and investment decisions accordingly?”**\n",
    "\n",
    "From a business standpoint, the analysis supports:\n",
    "\n",
    "Major studios: deciding whether to continue investing heavily in franchises/IP or diversify into new genres.\n",
    "\n",
    "Mid-tier & independent studios: identifying under-served genres where lower-budget films can still achieve profitability.\n",
    "\n",
    "Investors & stakeholders: understanding the balance between audience ratings, critical reception, and franchise appeal in driving revenue.\n",
    "\n",
    "Ultimately, the business objective is to provide actionable insights that help industry players maximize profitability while minimizing risk in an increasingly competitive global film market."
   ]
  },
  {
   "cell_type": "markdown",
   "metadata": {},
   "source": [
    "**Data Understanding**\n",
    "\n",
    "The dataset combines information from multiple sources, covering films released worldwide between 2010–2018. The main features include:\n",
    "\n",
    "**Movie Information: title, release year, runtime, primary genre, and studio.**\n",
    "\n",
    "**Financial Performance: worldwide gross earnings (box office revenue).**\n",
    "**Ratings: IMDb and TMDB average ratings, reflecting audience reception.**\n",
    "\n",
    "**Aggregated Features: computed metrics such as total, mean, and median gross by studio and genre.**\n",
    "\n",
    "Data Quality & Preparation\n",
    "\n",
    "Missing values in runtime and ratings were handled by dropping or imputing when necessary.\n",
    "\n",
    "Gross earnings were filtered to remove zero or invalid entries.\n",
    "\n",
    "Outliers (extreme blockbusters) were analyzed separately rather than removed, since they are strategically important.\n",
    "\n",
    "Categorical variables (genre, studio) were standardized for grouping and pivot analysis.\n",
    "\n",
    "This prepared dataset ensures reliability for both descriptive and exploratory analysis."
   ]
  },
  {
   "cell_type": "markdown",
   "metadata": {},
   "source": [
    "**Data Analysis**\n",
    "\n",
    "\n",
    "**Lets Import Necessary Tools**"
   ]
  },
  {
   "cell_type": "code",
   "execution_count": 2,
   "metadata": {},
   "outputs": [],
   "source": [
    "# Your code here - remember to use markdown cells for comments as well!\n",
    "import pandas as pd\n",
    "import numpy as np\n",
    "import sqlite3\n",
    "import matplotlib.pyplot as plt\n",
    "import seaborn as sns\n",
    "import os\n"
   ]
  },
  {
   "cell_type": "markdown",
   "metadata": {},
   "source": [
    "**Loading The Data to Jupyter Notebook**"
   ]
  },
  {
   "cell_type": "markdown",
   "metadata": {},
   "source": [
    "**The Numbers**\n",
    "\n",
    "\n",
    "Data Exploration (What is in the zippedData)"
   ]
  },
  {
   "cell_type": "code",
   "execution_count": 6,
   "metadata": {},
   "outputs": [
    {
     "name": "stdout",
     "output_type": "stream",
     "text": [
      "['bom.movie_gross.csv.gz', 'im.db.zip', 'rt.movie_info.tsv.gz', 'rt.reviews.tsv.gz', 'tmdb.movies.csv.gz', 'tn.movie_budgets.csv.gz']\n"
     ]
    }
   ],
   "source": [
    "import os\n",
    "\n",
    "data_path = r\"C:\\Users\\G-Osundwa\\Documents\\phase2\\g1project\\dsc-phase-2-project-v3\\zippedData\"\n",
    "\n",
    "print(os.listdir(data_path))  # See which files are inside"
   ]
  },
  {
   "cell_type": "code",
   "execution_count": 7,
   "metadata": {},
   "outputs": [
    {
     "name": "stdout",
     "output_type": "stream",
     "text": [
      "(5782, 6)\n",
      "   id  release_date                                        movie  \\\n",
      "0   1  Dec 18, 2009                                       Avatar   \n",
      "1   2  May 20, 2011  Pirates of the Caribbean: On Stranger Tides   \n",
      "2   3   Jun 7, 2019                                 Dark Phoenix   \n",
      "3   4   May 1, 2015                      Avengers: Age of Ultron   \n",
      "4   5  Dec 15, 2017            Star Wars Ep. VIII: The Last Jedi   \n",
      "\n",
      "  production_budget domestic_gross worldwide_gross  \n",
      "0      $425,000,000   $760,507,625  $2,776,345,279  \n",
      "1      $410,600,000   $241,063,875  $1,045,663,875  \n",
      "2      $350,000,000    $42,762,350    $149,762,350  \n",
      "3      $330,600,000   $459,005,868  $1,403,013,963  \n",
      "4      $317,000,000   $620,181,382  $1,316,721,747  \n"
     ]
    }
   ],
   "source": [
    "#Using absolute path\n",
    "\n",
    "tn = pd.read_csv(\n",
    "    r\"C:\\Users\\G-Osundwa\\Documents\\phase2\\g1project\\dsc-phase-2-project-v3\\zippedData\\tn.movie_budgets.csv.gz\"\n",
    ")\n",
    "print(tn.shape)\n",
    "print(tn.head())"
   ]
  },
  {
   "cell_type": "markdown",
   "metadata": {},
   "source": [
    "**Box Office Mojo**"
   ]
  },
  {
   "cell_type": "markdown",
   "metadata": {},
   "source": [
    "bom = pd.read_csv(f\"{data_path}/bom.movie_gross.csv.gz\")\n",
    "print(bom.shape)\n",
    "print(bom.head())\n",
    "print(bom.columns)"
   ]
  },
  {
   "cell_type": "code",
   "execution_count": 8,
   "metadata": {},
   "outputs": [
    {
     "name": "stdout",
     "output_type": "stream",
     "text": [
      "(5782, 6)\n",
      "   id  release_date                                        movie  \\\n",
      "0   1  Dec 18, 2009                                       Avatar   \n",
      "1   2  May 20, 2011  Pirates of the Caribbean: On Stranger Tides   \n",
      "2   3   Jun 7, 2019                                 Dark Phoenix   \n",
      "3   4   May 1, 2015                      Avengers: Age of Ultron   \n",
      "4   5  Dec 15, 2017            Star Wars Ep. VIII: The Last Jedi   \n",
      "\n",
      "  production_budget domestic_gross worldwide_gross  \n",
      "0      $425,000,000   $760,507,625  $2,776,345,279  \n",
      "1      $410,600,000   $241,063,875  $1,045,663,875  \n",
      "2      $350,000,000    $42,762,350    $149,762,350  \n",
      "3      $330,600,000   $459,005,868  $1,403,013,963  \n",
      "4      $317,000,000   $620,181,382  $1,316,721,747  \n",
      "Index(['id', 'release_date', 'movie', 'production_budget', 'domestic_gross',\n",
      "       'worldwide_gross'],\n",
      "      dtype='object')\n"
     ]
    }
   ],
   "source": [
    "data_path = r\"C:\\Users\\G-Osundwa\\Documents\\phase2\\g1project\\dsc-phase-2-project-v3\\zippedData\"\n",
    "\n",
    "tn = pd.read_csv(f\"{data_path}/tn.movie_budgets.csv.gz\")\n",
    "print(tn.shape)\n",
    "print(tn.head())\n",
    "print(tn.columns)"
   ]
  },
  {
   "cell_type": "code",
   "execution_count": 12,
   "metadata": {},
   "outputs": [
    {
     "name": "stdout",
     "output_type": "stream",
     "text": [
      "            name\n",
      "0   movie_basics\n",
      "1      directors\n",
      "2      known_for\n",
      "3     movie_akas\n",
      "4  movie_ratings\n",
      "5        persons\n",
      "6     principals\n",
      "7        writers\n"
     ]
    },
    {
     "data": {
      "text/plain": [
       "<sqlite3.Connection at 0x1727f8da6b0>"
      ]
     },
     "execution_count": 12,
     "metadata": {},
     "output_type": "execute_result"
    }
   ],
   "source": [
    "#lets get to know the names of the coluns in our idmb dataset\n",
    "db_path = r\"C:\\Users\\G-Osundwa\\Documents\\phase2\\g1project\\dsc-phase-2-project-v3\\zippedData\\im.db\"\n",
    "\n",
    "# connect to the database\n",
    "conn = sqlite3.connect(db_path)\n",
    "\n",
    "# check available tables\n",
    "tables = pd.read_sql(\"SELECT name FROM sqlite_master WHERE type='table';\", conn)\n",
    "print(tables)\n",
    "\n",
    "conn"
   ]
  },
  {
   "cell_type": "code",
   "execution_count": 13,
   "metadata": {},
   "outputs": [
    {
     "name": "stdout",
     "output_type": "stream",
     "text": [
      "(146144, 6)\n",
      "(73856, 3)\n"
     ]
    }
   ],
   "source": [
    "#What is the size of our dataset\n",
    "movie_basics = pd.read_sql(\"SELECT * FROM movie_basics;\", conn)\n",
    "movie_ratings = pd.read_sql(\"SELECT * FROM movie_ratings;\", conn)\n",
    "\n",
    "print(movie_basics.shape)\n",
    "print(movie_ratings.shape)"
   ]
  },
  {
   "cell_type": "code",
   "execution_count": 14,
   "metadata": {},
   "outputs": [
    {
     "name": "stdout",
     "output_type": "stream",
     "text": [
      "(73856, 8)\n",
      "    movie_id                            title              original_title  \\\n",
      "0  tt0063540                        Sunghursh                   Sunghursh   \n",
      "1  tt0066787  One Day Before the Rainy Season             Ashad Ka Ek Din   \n",
      "2  tt0069049       The Other Side of the Wind  The Other Side of the Wind   \n",
      "3  tt0069204                  Sabse Bada Sukh             Sabse Bada Sukh   \n",
      "4  tt0100275         The Wandering Soap Opera       La Telenovela Errante   \n",
      "\n",
      "   year  runtime_minutes                genres  averagerating  numvotes  \n",
      "0  2013            175.0    Action,Crime,Drama            7.0        77  \n",
      "1  2019            114.0       Biography,Drama            7.2        43  \n",
      "2  2018            122.0                 Drama            6.9      4517  \n",
      "3  2018              NaN          Comedy,Drama            6.1        13  \n",
      "4  2017             80.0  Comedy,Drama,Fantasy            6.5       119  \n"
     ]
    }
   ],
   "source": [
    "#We will need to pull full data\n",
    "imdb_full = (\n",
    "    movie_basics\n",
    "    .merge(movie_ratings, on=\"movie_id\", how=\"inner\")  # inner keeps only rated films\n",
    "    .rename(columns={\"primary_title\": \"title\", \"start_year\": \"year\"})\n",
    ")\n",
    "\n",
    "print(imdb_full.shape)\n",
    "print(imdb_full.head())\n"
   ]
  },
  {
   "cell_type": "markdown",
   "metadata": {},
   "source": [
    "**THE MOVIE DB TMDB**"
   ]
  },
  {
   "cell_type": "code",
   "execution_count": 16,
   "metadata": {},
   "outputs": [
    {
     "name": "stdout",
     "output_type": "stream",
     "text": [
      "(26517, 10)\n",
      "   Unnamed: 0            genre_ids     id original_language  \\\n",
      "0           0      [12, 14, 10751]  12444                en   \n",
      "1           1  [14, 12, 16, 10751]  10191                en   \n",
      "2           2        [12, 28, 878]  10138                en   \n",
      "3           3      [16, 35, 10751]    862                en   \n",
      "4           4        [28, 878, 12]  27205                en   \n",
      "\n",
      "                                 original_title  popularity release_date  \\\n",
      "0  Harry Potter and the Deathly Hallows: Part 1      33.533   2010-11-19   \n",
      "1                      How to Train Your Dragon      28.734   2010-03-26   \n",
      "2                                    Iron Man 2      28.515   2010-05-07   \n",
      "3                                     Toy Story      28.005   1995-11-22   \n",
      "4                                     Inception      27.920   2010-07-16   \n",
      "\n",
      "                                          title  vote_average  vote_count  \n",
      "0  Harry Potter and the Deathly Hallows: Part 1           7.7       10788  \n",
      "1                      How to Train Your Dragon           7.7        7610  \n",
      "2                                    Iron Man 2           6.8       12368  \n",
      "3                                     Toy Story           7.9       10174  \n",
      "4                                     Inception           8.3       22186  \n",
      "Index(['Unnamed: 0', 'genre_ids', 'id', 'original_language', 'original_title',\n",
      "       'popularity', 'release_date', 'title', 'vote_average', 'vote_count'],\n",
      "      dtype='object')\n"
     ]
    }
   ],
   "source": [
    "tmdb = pd.read_csv(f\"{data_path}/tmdb.movies.csv.gz\")\n",
    "print(tmdb.shape)\n",
    "print(tmdb.head())\n",
    "print(tmdb.columns)"
   ]
  },
  {
   "cell_type": "markdown",
   "metadata": {},
   "source": [
    "**ROTTEN TOMATOES**"
   ]
  },
  {
   "cell_type": "code",
   "execution_count": 17,
   "metadata": {},
   "outputs": [
    {
     "name": "stdout",
     "output_type": "stream",
     "text": [
      "(1560, 12)\n",
      "   id                                           synopsis rating  \\\n",
      "0   1  This gritty, fast-paced, and innovative police...      R   \n",
      "1   3  New York City, not-too-distant-future: Eric Pa...      R   \n",
      "2   5  Illeana Douglas delivers a superb performance ...      R   \n",
      "3   6  Michael Douglas runs afoul of a treacherous su...      R   \n",
      "4   7                                                NaN     NR   \n",
      "\n",
      "                                 genre          director  \\\n",
      "0  Action and Adventure|Classics|Drama  William Friedkin   \n",
      "1    Drama|Science Fiction and Fantasy  David Cronenberg   \n",
      "2    Drama|Musical and Performing Arts    Allison Anders   \n",
      "3           Drama|Mystery and Suspense    Barry Levinson   \n",
      "4                        Drama|Romance    Rodney Bennett   \n",
      "\n",
      "                            writer  theater_date      dvd_date currency  \\\n",
      "0                   Ernest Tidyman   Oct 9, 1971  Sep 25, 2001      NaN   \n",
      "1     David Cronenberg|Don DeLillo  Aug 17, 2012   Jan 1, 2013        $   \n",
      "2                   Allison Anders  Sep 13, 1996  Apr 18, 2000      NaN   \n",
      "3  Paul Attanasio|Michael Crichton   Dec 9, 1994  Aug 27, 1997      NaN   \n",
      "4                     Giles Cooper           NaN           NaN      NaN   \n",
      "\n",
      "  box_office      runtime             studio  \n",
      "0        NaN  104 minutes                NaN  \n",
      "1    600,000  108 minutes  Entertainment One  \n",
      "2        NaN  116 minutes                NaN  \n",
      "3        NaN  128 minutes                NaN  \n",
      "4        NaN  200 minutes                NaN  \n",
      "Index(['id', 'synopsis', 'rating', 'genre', 'director', 'writer',\n",
      "       'theater_date', 'dvd_date', 'currency', 'box_office', 'runtime',\n",
      "       'studio'],\n",
      "      dtype='object')\n"
     ]
    }
   ],
   "source": [
    "rt_info = pd.read_csv(f\"{data_path}/rt.movie_info.tsv.gz\", sep=\"\\t\")\n",
    "print(rt_info.shape)\n",
    "print(rt_info.head())\n",
    "print(rt_info.columns)"
   ]
  },
  {
   "cell_type": "markdown",
   "metadata": {},
   "source": [
    "**IMDB**"
   ]
  },
  {
   "cell_type": "code",
   "execution_count": 32,
   "metadata": {},
   "outputs": [
    {
     "name": "stdout",
     "output_type": "stream",
     "text": [
      "            name\n",
      "0   movie_basics\n",
      "1      directors\n",
      "2      known_for\n",
      "3     movie_akas\n",
      "4  movie_ratings\n",
      "5        persons\n",
      "6     principals\n",
      "7        writers\n"
     ]
    },
    {
     "data": {
      "text/plain": [
       "<sqlite3.Connection at 0x1727fbac4f0>"
      ]
     },
     "execution_count": 32,
     "metadata": {},
     "output_type": "execute_result"
    }
   ],
   "source": [
    "db_path = r\"C:\\Users\\G-Osundwa\\Documents\\phase2\\g1project\\dsc-phase-2-project-v3\\zippedData\\im.db\"\n",
    "\n",
    "# connect to database\n",
    "conn = sqlite3.connect(db_path)\n",
    "\n",
    "# check available tables\n",
    "tables = pd.read_sql(\"SELECT name FROM sqlite_master WHERE type='table';\", conn)\n",
    "print(tables)\n",
    "\n",
    "conn"
   ]
  },
  {
   "cell_type": "code",
   "execution_count": 49,
   "metadata": {},
   "outputs": [
    {
     "name": "stdout",
     "output_type": "stream",
     "text": [
      "(73856, 8)\n",
      "    movie_id                            title              original_title  \\\n",
      "0  tt0063540                        Sunghursh                   Sunghursh   \n",
      "1  tt0066787  One Day Before the Rainy Season             Ashad Ka Ek Din   \n",
      "2  tt0069049       The Other Side of the Wind  The Other Side of the Wind   \n",
      "3  tt0069204                  Sabse Bada Sukh             Sabse Bada Sukh   \n",
      "4  tt0100275         The Wandering Soap Opera       La Telenovela Errante   \n",
      "\n",
      "   year  runtime_minutes                genres  averagerating  numvotes  \n",
      "0  2013            175.0    Action,Crime,Drama            7.0        77  \n",
      "1  2019            114.0       Biography,Drama            7.2        43  \n",
      "2  2018            122.0                 Drama            6.9      4517  \n",
      "3  2018              NaN          Comedy,Drama            6.1        13  \n",
      "4  2017             80.0  Comedy,Drama,Fantasy            6.5       119  \n"
     ]
    }
   ],
   "source": [
    "db_path = r\"C:\\Users\\G-Osundwa\\Documents\\phase2\\g1project\\dsc-phase-2-project-v3\\zippedData\\im.db\"\n",
    "\n",
    "# Connect and load the two tables\n",
    "conn = sqlite3.connect(db_path)\n",
    "\n",
    "imdb_basics = pd.read_sql(\"SELECT * FROM movie_basics;\", conn)\n",
    "imdb_ratings = pd.read_sql(\"SELECT * FROM movie_ratings;\", conn)\n",
    "\n",
    "conn.close()\n",
    "\n",
    "# Merge datasets\n",
    "imdb_full = (\n",
    "    movie_basics\n",
    "    .merge(movie_ratings, on=\"movie_id\", how=\"inner\")  # inner keeps only rated films\n",
    "    .rename(columns={\"primary_title\": \"title\", \"start_year\": \"year\"})\n",
    ")\n",
    "\n",
    "print(imdb_full.shape)\n",
    "print(imdb_full.head())"
   ]
  },
  {
   "cell_type": "markdown",
   "metadata": {},
   "source": [
    "**Data Selection**\n",
    "\n",
    "**The Numbers**\n",
    "\n",
    "The Number contains box office and budget info, but BOM has better international coverage.\n",
    "\n",
    "BOM + IMDb + TMDB together already cover financial + popularity + critical aspects.\n",
    "\n",
    "Using both TN and BOM would cause redundancy (they overlap heavily).\n",
    "\n",
    "**Decision:** We drop TN in favor of BOM, which is more widely used in financial analysis.\n",
    "\n",
    "**Rotten Tomatoes**\n",
    "\n",
    "RT scores are already correlated with IMDb ratings (both are critic/audience evaluations).\n",
    "\n",
    "RT dataset is sparser and noisier in coverage, often missing smaller or older films.\n",
    "\n",
    "We don’t want redundant metrics → IMDb ratings are more complete and easier to link.\n",
    "\n",
    "**Decision:**  We drop Rotten Tomatoes because it adds little new information beyond IMDb.\n",
    "\n",
    "\n",
    "**We keep IMDb, TMDB, BOM** Because\n",
    "\n",
    "*IMDb - Huge coverage & trusted metadata. It gives us ratings or critical response, titles, years, runtimes → essential backbone.*\n",
    "\n",
    "*TMDB - Modern coverage especially 2000s+, popularity measures, genres, keywords, production details - helps us see current audience preferences.*\n",
    "\n",
    "*Box Office Mojo (BOM) -  Strong financial data (domestic plus international grosses, sometimes budget). This is directly tied to our core business question.*"
   ]
  },
  {
   "cell_type": "code",
   "execution_count": 33,
   "metadata": {},
   "outputs": [
    {
     "name": "stdout",
     "output_type": "stream",
     "text": [
      "(146144, 6)\n",
      "(73856, 3)\n"
     ]
    }
   ],
   "source": [
    "#What is the size of our dataset\n",
    "movie_basics = pd.read_sql(\"SELECT * FROM movie_basics;\", conn)\n",
    "movie_ratings = pd.read_sql(\"SELECT * FROM movie_ratings;\", conn)\n",
    "\n",
    "print(movie_basics.shape)\n",
    "print(movie_ratings.shape)\n"
   ]
  },
  {
   "cell_type": "markdown",
   "metadata": {},
   "source": [
    "**Exploratory Data Analysis.**"
   ]
  },
  {
   "cell_type": "markdown",
   "metadata": {},
   "source": [
    "**Cleaning of Box Office Mojo**\n"
   ]
  },
  {
   "cell_type": "code",
   "execution_count": 21,
   "metadata": {},
   "outputs": [
    {
     "name": "stdout",
     "output_type": "stream",
     "text": [
      "(3387, 5)\n",
      "                                         title studio  domestic_gross  \\\n",
      "0                                  Toy Story 3     BV     415000000.0   \n",
      "1                   Alice in Wonderland (2010)     BV     334200000.0   \n",
      "2  Harry Potter and the Deathly Hallows Part 1     WB     296000000.0   \n",
      "3                                    Inception     WB     292600000.0   \n",
      "4                          Shrek Forever After   P/DW     238700000.0   \n",
      "\n",
      "  foreign_gross  year  \n",
      "0     652000000  2010  \n",
      "1     691300000  2010  \n",
      "2     664300000  2010  \n",
      "3     535700000  2010  \n",
      "4     513900000  2010  \n",
      "Index(['title', 'studio', 'domestic_gross', 'foreign_gross', 'year'], dtype='object')\n",
      "<class 'pandas.core.frame.DataFrame'>\n",
      "RangeIndex: 3387 entries, 0 to 3386\n",
      "Data columns (total 5 columns):\n",
      " #   Column          Non-Null Count  Dtype  \n",
      "---  ------          --------------  -----  \n",
      " 0   title           3387 non-null   object \n",
      " 1   studio          3382 non-null   object \n",
      " 2   domestic_gross  3359 non-null   float64\n",
      " 3   foreign_gross   2037 non-null   object \n",
      " 4   year            3387 non-null   int64  \n",
      "dtypes: float64(1), int64(1), object(3)\n",
      "memory usage: 132.4+ KB\n",
      "None\n",
      "title                0\n",
      "studio               5\n",
      "domestic_gross      28\n",
      "foreign_gross     1350\n",
      "year                 0\n",
      "dtype: int64\n"
     ]
    }
   ],
   "source": [
    "data_path = r\"C:\\Users\\G-Osundwa\\Documents\\phase2\\g1project\\dsc-phase-2-project-v3\\zippedData\"\n",
    "\n",
    "bom = pd.read_csv(f\"{data_path}\\\\bom.movie_gross.csv.gz\")  \n",
    "print(bom.shape)\n",
    "print(bom.head())\n",
    "print(bom.columns)\n",
    "print(bom.info())\n",
    "print(bom.isna().sum())"
   ]
  },
  {
   "cell_type": "markdown",
   "metadata": {},
   "source": [
    "This dataset contains **3,387** movies with information on title, studio, domestic gross, foreign gross, and release year. It is mostly complete, with only a few missing values in the studio and domestic_gross columns, but a significant portion **40%** of the foreign_gross data is missing. Additionally, the foreign_gross column is stored as text and will need to be cleaned and converted to numeric for analysis. Overall, the dataset is rich enough for exploring box office performance across studios and years, though attention will be required to handle missing and inconsistent values."
   ]
  },
  {
   "cell_type": "markdown",
   "metadata": {},
   "source": [
    "**Cleaning of Box Office Mojo**\n",
    "\n",
    "**Normalizing whitespace & empty-strings**"
   ]
  },
  {
   "cell_type": "code",
   "execution_count": 22,
   "metadata": {},
   "outputs": [
    {
     "name": "stdout",
     "output_type": "stream",
     "text": [
      "After normalizing blank strings:\n",
      " title                0\n",
      "studio               5\n",
      "domestic_gross      28\n",
      "foreign_gross     1350\n",
      "year                 0\n",
      "dtype: int64\n"
     ]
    }
   ],
   "source": [
    "# convert empty strings to NaN for all object columns\n",
    "for c in bom.select_dtypes(include=\"object\").columns:\n",
    "    bom[c] = bom[c].apply(lambda x: x.strip() if isinstance(x, str) else x)\n",
    "    bom[c].replace({'': pd.NA, 'NA': pd.NA, 'N/A': pd.NA, 'nan': pd.NA}, inplace=True)\n",
    "\n",
    "print(\"After normalizing blank strings:\\n\", bom.isnull().sum())"
   ]
  },
  {
   "cell_type": "markdown",
   "metadata": {},
   "source": [
    "This means that blank -NA placeholders are successfully normalized into real NaN values"
   ]
  },
  {
   "cell_type": "markdown",
   "metadata": {},
   "source": [
    "**Cleaning numeric money columns (foreign_gross, domestic_gross)**"
   ]
  },
  {
   "cell_type": "code",
   "execution_count": 23,
   "metadata": {},
   "outputs": [
    {
     "name": "stdout",
     "output_type": "stream",
     "text": [
      "domestic_gross    float64\n",
      "foreign_gross     float64\n",
      "dtype: object\n",
      "   domestic_gross  foreign_gross\n",
      "0    4.150000e+09    652000000.0\n",
      "1    3.342000e+09    691300000.0\n",
      "2    2.960000e+09    664300000.0\n",
      "3    2.926000e+09    535700000.0\n",
      "4    2.387000e+09    513900000.0\n",
      "Missing counts:\n",
      " domestic_gross      28\n",
      "foreign_gross     1350\n",
      "dtype: int64\n"
     ]
    }
   ],
   "source": [
    "\n",
    "def clean_money_column(series):\n",
    "    return (\n",
    "        series.astype(str)                      # ensure string\n",
    "              .str.replace(r'[^0-9]', '', regex=True)  # keep only numbers\n",
    "              .replace('', np.nan)              # convert empty strings to NaN\n",
    "              .astype(float)                    # convert to float\n",
    "    )\n",
    "\n",
    "bom['domestic_gross'] = clean_money_column(bom['domestic_gross'])\n",
    "bom['foreign_gross']  = clean_money_column(bom['foreign_gross'])\n",
    "\n",
    "print(bom[['domestic_gross','foreign_gross']].dtypes)\n",
    "print(bom[['domestic_gross','foreign_gross']].head())\n",
    "print(\"Missing counts:\\n\", bom[['domestic_gross','foreign_gross']].isna().sum())"
   ]
  },
  {
   "cell_type": "markdown",
   "metadata": {},
   "source": [
    "The cleaning worked well, both domestic_gross and foreign_gross are now proper float64 columns, and missing values are clearly counted 28 and 1350.\n",
    "\n",
    "But notice something interesting:\n",
    "\n",
    "Domestic gross values look too large.  For example Toy Story 3 shows 4.15e+09 (4.15 billion) instead of the correct 415,000,000.\n",
    "\n",
    "That happened because the column already came in as numeric, and our cleaning function treated it as a string, stripped non-numeric characters, and dropped the decimal places (basically multiplying by 10).\n"
   ]
  },
  {
   "cell_type": "code",
   "execution_count": 25,
   "metadata": {},
   "outputs": [
    {
     "name": "stdout",
     "output_type": "stream",
     "text": [
      "   domestic_gross  foreign_gross\n",
      "0    4.150000e+09   6.520000e+09\n",
      "1    3.342000e+09   6.913000e+09\n",
      "2    2.960000e+09   6.643000e+09\n",
      "3    2.926000e+09   5.357000e+09\n",
      "4    2.387000e+09   5.139000e+09\n",
      "Missing counts:\n",
      " domestic_gross      28\n",
      "foreign_gross     1350\n",
      "dtype: int64\n",
      "\n",
      "Summary stats:\n",
      "        domestic_gross  foreign_gross\n",
      "count    3.359000e+03   2.037000e+03\n",
      "mean     2.874585e+08   7.487284e+08\n",
      "std      6.698250e+08   1.374106e+09\n",
      "min      1.000000e+03   6.000000e+03\n",
      "25%      1.200000e+06   3.700000e+07\n",
      "50%      1.400000e+07   1.870000e+08\n",
      "75%      2.790000e+08   7.490000e+08\n",
      "max      9.367000e+09   9.605000e+09\n"
     ]
    }
   ],
   "source": [
    "# Clean only foreign_gross (was object with $, commas)\n",
    "bom['foreign_gross'] = (\n",
    "    bom['foreign_gross']\n",
    "        .astype(str)\n",
    "        .str.replace(r'[^0-9]', '', regex=True)\n",
    "        .replace('', np.nan)\n",
    "        .astype(float)\n",
    ")\n",
    "\n",
    "# Domestic_gross was already numeric, just leave it as is\n",
    "print(bom[['domestic_gross','foreign_gross']].head())\n",
    "print(\"Missing counts:\\n\", bom[['domestic_gross','foreign_gross']].isna().sum())\n",
    "print(\"\\nSummary stats:\\n\", bom[['domestic_gross','foreign_gross']].describe())"
   ]
  },
  {
   "cell_type": "markdown",
   "metadata": {},
   "source": [
    "Domestic gross: Ranges from very small releases **(1,000 dolars)** to blockbusters (9.36 billion dolars — which still looks suspiciously high, probably due to a data entry error; real-world highest domestic gross is under 1B dolars).\n",
    "\n",
    "Foreign gross: Goes up to **9.6 billion dolars**, also likely due to mis-recorded values. Median **(187M dolars)** and quartiles look reasonable, but the maximums suggest outliers.\n",
    "\n",
    "Missing data:\n",
    "\n",
    "Domestic: only 28 missing which is  manageable.\n",
    "\n",
    "Foreign: 1350 missing - about 40% missing, so we’ll need to decide whether to impute, drop, or analyze separately."
   ]
  },
  {
   "cell_type": "code",
   "execution_count": 26,
   "metadata": {},
   "outputs": [
    {
     "data": {
      "image/png": "[encoded data removed]",
      "text/plain": [
       "<Figure size 1400x500 with 2 Axes>"
      ]
     },
     "metadata": {},
     "output_type": "display_data"
    }
   ],
   "source": [
    "fig, axes = plt.subplots(1, 2, figsize=(14, 5))\n",
    "\n",
    "# Domestic gross\n",
    "axes[0].hist(bom['domestic_gross'].dropna(), bins=50, log=True)\n",
    "axes[0].set_title(\"Domestic Gross (log scale)\")\n",
    "axes[0].set_xlabel(\"Gross ($)\")\n",
    "axes[0].set_ylabel(\"Frequency\")\n",
    "axes[0].set_xscale('log')\n",
    "\n",
    "# Foreign gross\n",
    "axes[1].hist(bom['foreign_gross'].dropna(), bins=50, log=True)\n",
    "axes[1].set_title(\"Foreign Gross (log scale)\")\n",
    "axes[1].set_xlabel(\"Gross ($)\")\n",
    "axes[1].set_ylabel(\"Frequency\")\n",
    "axes[1].set_xscale('log')\n",
    "\n",
    "plt.tight_layout()\n",
    "plt.show()"
   ]
  },
  {
   "cell_type": "markdown",
   "metadata": {},
   "source": [
    "**Domestic Gross**\n",
    "\n",
    "\n",
    "The vast majority of movies gross less than 100 million dolars domestically.\n",
    "\n",
    "There's a steep drop-off as gross revenue increases.\n",
    "\n",
    "A few movies fall in the $1B to 10B dolars range, which is unusual and likely includes outliers or data errors.\n",
    "\n",
    "**Foreign Gross**\n",
    "\n",
    "\n",
    "Similar to the domestic plot, most movies gross less than $100 million.\n",
    "\n",
    "There are also a few movies with gross revenues above 1B dolars, and some nearing $10B, which is extremely rare.\n",
    "\n",
    "\n",
    "**Extreme Values**\n",
    "\n",
    "\n",
    "The highest-grossing movie of all time, Avatar (when adjusted for inflation or not), grossed around $2.9 billion globally.\n",
    "\n",
    "A $9B+ gross for a single market (domestic or foreign) is almost certainly:\n",
    "\n",
    "A data entry error (e.g., wrong units like cents/dollars confusion).\n",
    "\n",
    "An aggregated value (e.g., across many re-releases or formats).\n",
    "\n",
    "Or potentially an outlier due to a mislabeling of revenue sources.\n"
   ]
  },
  {
   "cell_type": "markdown",
   "metadata": {},
   "source": [
    "**Investigating Outliers**"
   ]
  },
  {
   "cell_type": "code",
   "execution_count": 28,
   "metadata": {},
   "outputs": [
    {
     "name": "stdout",
     "output_type": "stream",
     "text": [
      "Top 10 domestic gross:\n",
      "                             title  domestic_gross\n",
      "1872  Star Wars: The Force Awakens    9.367000e+09\n",
      "3080                 Black Panther    7.001000e+09\n",
      "3079        Avengers: Infinity War    6.788000e+09\n",
      "1873                Jurassic World    6.523000e+09\n",
      "727          Marvel's The Avengers    6.234000e+09\n",
      "2758      Star Wars: The Last Jedi    6.202000e+09\n",
      "3082                 Incredibles 2    6.086000e+09\n",
      "2323  Rogue One: A Star Wars Story    5.322000e+09\n",
      "2759   Beauty and the Beast (2017)    5.040000e+09\n",
      "2324                  Finding Dory    4.863000e+09\n",
      "\n",
      "Top 10 foreign gross:\n",
      "                                            title  foreign_gross\n",
      "328   Harry Potter and the Deathly Hallows Part 2   9.605000e+09\n",
      "1875                      Avengers: Age of Ultron   9.464000e+09\n",
      "727                         Marvel's The Avengers   8.955000e+09\n",
      "3081               Jurassic World: Fallen Kingdom   8.918000e+09\n",
      "1127                                       Frozen   8.757000e+09\n",
      "2764                               Wolf Warrior 2   8.676000e+09\n",
      "1477              Transformers: Age of Extinction   8.586000e+09\n",
      "1876                                      Minions   8.234000e+09\n",
      "3083                                      Aquaman   8.127000e+09\n",
      "1128                                   Iron Man 3   8.058000e+09\n"
     ]
    }
   ],
   "source": [
    "print(\"Top 10 domestic gross:\")\n",
    "print(bom[['title','domestic_gross']].sort_values(by='domestic_gross', ascending=False).head(10))\n",
    "\n",
    "print(\"\\nTop 10 foreign gross:\")\n",
    "print(bom[['title','foreign_gross']].sort_values(by='foreign_gross', ascending=False).head(10))"
   ]
  },
  {
   "cell_type": "markdown",
   "metadata": {},
   "source": [
    "This confirms that: the gross numbers are off by a factor of 10.\n",
    "\n",
    "For example:\n",
    "\n",
    "Star Wars: The Force Awakens domestic gross is shown as 9.3B, but the real number is about 936M.\n",
    "\n",
    "Avengers: Endgame worldwide was equivalent to 2.8B, but here values are in the 8–9B range.\n",
    "\n",
    "So the dataset is inflated by ×10 for many big titles.\n",
    "\n",
    "**We apply a correction**\n",
    "\n",
    "If a value is greater than 3 billion, divide it by 10."
   ]
  },
  {
   "cell_type": "code",
   "execution_count": 40,
   "metadata": {},
   "outputs": [
    {
     "name": "stdout",
     "output_type": "stream",
     "text": [
      "Top domestic gross after correction:\n",
      "                                            title  domestic_gross\n",
      "2     Harry Potter and the Deathly Hallows Part 1     296000000.0\n",
      "3                                       Inception     292600000.0\n",
      "732       The Twilight Saga: Breaking Dawn Part 2     292300000.0\n",
      "1135                                 Man of Steel     291000000.0\n",
      "1880        The Hunger Games: Mockingjay - Part 2     281700000.0\n",
      "331       The Twilight Saga: Breaking Dawn Part 1     281300000.0\n",
      "1134                                      Gravity     274100000.0\n",
      "3096                 Dr. Seuss' The Grinch (2018)     270600000.0\n",
      "2334                                         Sing     270400000.0\n",
      "1133                          Monsters University     268500000.0\n",
      "\n",
      "Top foreign gross after correction:\n",
      "                             title  foreign_gross\n",
      "343       The Adventures of Tintin    296400000.0\n",
      "2338                    La La Land    295000000.0\n",
      "741          Les Miserables (2012)    293000000.0\n",
      "8                    Despicable Me    291600000.0\n",
      "2351                        Dangal    290500000.0\n",
      "1495        Penguins of Madagascar    289700000.0\n",
      "2786                The Great Wall    289400000.0\n",
      "2342  Independence Day: Resurgence    286500000.0\n",
      "735               The Hunger Games    286400000.0\n",
      "1889  Kingsman: The Secret Service    286100000.0\n"
     ]
    }
   ],
   "source": [
    "def fix_scale(series):\n",
    "    return series.apply(lambda x: x/10 if pd.notna(x) and x > 3_000_000_000 else x)\n",
    "\n",
    "bom['domestic_gross'] = fix_scale(bom['domestic_gross'])\n",
    "bom['foreign_gross']  = fix_scale(bom['foreign_gross'])\n",
    "\n",
    "# Check again\n",
    "print(\"Top domestic gross after correction:\")\n",
    "print(bom[['title','domestic_gross']].sort_values(by='domestic_gross', ascending=False).head(10))\n",
    "\n",
    "print(\"\\nTop foreign gross after correction:\")\n",
    "print(bom[['title','foreign_gross']].sort_values(by='foreign_gross', ascending=False).head(10))"
   ]
  },
  {
   "cell_type": "markdown",
   "metadata": {},
   "source": [
    "The numbers look smaller than before, but they’re still too large to be realistic.\n",
    "\n",
    "For example:\n",
    "\n",
    "Inception domestic gross = 2.9B in our data.\n",
    "\n",
    "Reality: about 292M USD.\n",
    "\n",
    "That’s still inflated by ×10 again.\n",
    "\n",
    "La La Land foreign gross = 2.95B in our data.\n",
    "\n",
    "Reality: about 280M USD.\n",
    "\n",
    "Again, about ×10 inflated."
   ]
  },
  {
   "cell_type": "code",
   "execution_count": 30,
   "metadata": {},
   "outputs": [
    {
     "name": "stdout",
     "output_type": "stream",
     "text": [
      "Top 10 domestic gross (fully corrected):\n",
      "                                            title  domestic_gross\n",
      "2     Harry Potter and the Deathly Hallows Part 1     296000000.0\n",
      "3                                       Inception     292600000.0\n",
      "732       The Twilight Saga: Breaking Dawn Part 2     292300000.0\n",
      "1135                                 Man of Steel     291000000.0\n",
      "1880        The Hunger Games: Mockingjay - Part 2     281700000.0\n",
      "331       The Twilight Saga: Breaking Dawn Part 1     281300000.0\n",
      "1134                                      Gravity     274100000.0\n",
      "3096                 Dr. Seuss' The Grinch (2018)     270600000.0\n",
      "2334                                         Sing     270400000.0\n",
      "1133                          Monsters University     268500000.0\n",
      "\n",
      "Top 10 foreign gross (fully corrected):\n",
      "                             title  foreign_gross\n",
      "343       The Adventures of Tintin    296400000.0\n",
      "2338                    La La Land    295000000.0\n",
      "741          Les Miserables (2012)    293000000.0\n",
      "8                    Despicable Me    291600000.0\n",
      "2351                        Dangal    290500000.0\n",
      "1495        Penguins of Madagascar    289700000.0\n",
      "2786                The Great Wall    289400000.0\n",
      "2342  Independence Day: Resurgence    286500000.0\n",
      "735               The Hunger Games    286400000.0\n",
      "1889  Kingsman: The Secret Service    286100000.0\n"
     ]
    }
   ],
   "source": [
    "bom['domestic_gross'] = bom['domestic_gross'] / 10\n",
    "bom['foreign_gross']  = bom['foreign_gross'] / 10\n",
    "\n",
    "# Re-check the top grosses\n",
    "print(\"Top 10 domestic gross (fully corrected):\")\n",
    "print(bom[['title','domestic_gross']].sort_values(by='domestic_gross', ascending=False).head(10))\n",
    "\n",
    "print(\"\\nTop 10 foreign gross (fully corrected):\")\n",
    "print(bom[['title','foreign_gross']].sort_values(by='foreign_gross', ascending=False).head(10))\n"
   ]
  },
  {
   "cell_type": "markdown",
   "metadata": {},
   "source": [
    "The grosses look realistic and line up with what we’d expect from actual box office numbers.\n",
    "\n",
    " Inception at 292M dolars domestic matches the real ~292M.\n",
    "\n",
    "\n",
    " La La Land at 295M dolars foreign matches the real ~280–300M.\n",
    "\n",
    " \n",
    " Big hits are in the hundreds of millions instead of billions."
   ]
  },
  {
   "cell_type": "markdown",
   "metadata": {},
   "source": [
    "Standardizing titles for later merging with IMDB/TMDB:"
   ]
  },
  {
   "cell_type": "code",
   "execution_count": 67,
   "metadata": {},
   "outputs": [],
   "source": [
    "bom['title'] = bom['title'].str.strip().str.lower()"
   ]
  },
  {
   "cell_type": "markdown",
   "metadata": {},
   "source": [
    "**Performing Cleaning on IMDB**"
   ]
  },
  {
   "cell_type": "markdown",
   "metadata": {},
   "source": [
    "**Checking for missing values**"
   ]
  },
  {
   "cell_type": "code",
   "execution_count": 42,
   "metadata": {},
   "outputs": [
    {
     "name": "stdout",
     "output_type": "stream",
     "text": [
      "runtime_minutes    7620\n",
      "genres              804\n",
      "movie_id              0\n",
      "title                 0\n",
      "original_title        0\n",
      "year                  0\n",
      "averagerating         0\n",
      "numvotes              0\n",
      "dtype: int64\n",
      "runtime_minutes    10.317374\n",
      "genres              1.088605\n",
      "movie_id            0.000000\n",
      "title               0.000000\n",
      "original_title      0.000000\n",
      "year                0.000000\n",
      "averagerating       0.000000\n",
      "numvotes            0.000000\n",
      "dtype: float64\n"
     ]
    }
   ],
   "source": [
    "# Check total missing values per column\n",
    "missing_data = imdb_full.isnull().sum().sort_values(ascending=False)\n",
    "print(missing_data)\n",
    "\n",
    "# Check percentage of missing values per column\n",
    "missing_percent = (imdb_full.isnull().mean() * 100).sort_values(ascending=False)\n",
    "print(missing_percent)"
   ]
  },
  {
   "cell_type": "markdown",
   "metadata": {},
   "source": [
    "Runtime_minutes - 7,620 missing values (10.3% of our dataset).\n",
    "\n",
    "genres - 804 missing values (1.1%).\n",
    "\n",
    "All other columns (movie_id, title, original_title, year, averagerating, numvotes) - no missing data.\n",
    "\n",
    "Missing runtime_minutes (10%) is noticeable but not catastrophic."
   ]
  },
  {
   "cell_type": "code",
   "execution_count": 44,
   "metadata": {},
   "outputs": [],
   "source": [
    "# Drop rows with missing year or runtime if needed\n",
    "imdb_full = imdb_full.dropna(subset=[\"year\", \"runtime_minutes\"])\n",
    "\n",
    "# Ensure year is integer\n",
    "imdb_full[\"year\"] = imdb_full[\"year\"].astype(int)\n",
    "\n",
    "# Keep only plausible years\n",
    "imdb_full = imdb_full[(imdb_full[\"year\"] >= 1900) & (imdb_full[\"year\"] <= 2023)]"
   ]
  },
  {
   "cell_type": "markdown",
   "metadata": {},
   "source": [
    "**Join with Ratings so each movie has its average_rating and num_votes.**"
   ]
  },
  {
   "cell_type": "code",
   "execution_count": 50,
   "metadata": {},
   "outputs": [
    {
     "name": "stdout",
     "output_type": "stream",
     "text": [
      "Exact matches: 2701\n",
      "['just a breath away', 'beastly', 'captain underpants: the first epic movie', 'lost in thailand', 'first man', 'rio, i love you', 'juan of the dead', 'judy moody and the not bummer summer', \"god's not dead 2\", 'the escape', 'thelma', 'love the coopers', 'krrish 3', 'the protector 2', \"i'm still here\", 'den of thieves', 'kill the messenger', 'marjorie prime', 'planes: fire & rescue', 'when the game stands tall']\n",
      "<class 'pandas.core.frame.DataFrame'>\n",
      "RangeIndex: 3487 entries, 0 to 3486\n",
      "Data columns (total 14 columns):\n",
      " #   Column           Non-Null Count  Dtype  \n",
      "---  ------           --------------  -----  \n",
      " 0   movie_id         3487 non-null   object \n",
      " 1   primary_title    3487 non-null   object \n",
      " 2   original_title   3487 non-null   object \n",
      " 3   start_year       3487 non-null   int64  \n",
      " 4   runtime_minutes  3313 non-null   float64\n",
      " 5   genres           3447 non-null   object \n",
      " 6   averagerating    3133 non-null   float64\n",
      " 7   numvotes         3133 non-null   float64\n",
      " 8   title_clean      3487 non-null   object \n",
      " 9   title            3487 non-null   object \n",
      " 10  studio           3484 non-null   object \n",
      " 11  domestic_gross   3462 non-null   float64\n",
      " 12  foreign_gross    2106 non-null   float64\n",
      " 13  year             3487 non-null   int64  \n",
      "dtypes: float64(5), int64(2), object(7)\n",
      "memory usage: 381.5+ KB\n",
      "None\n",
      "    movie_id primary_title original_title  start_year  runtime_minutes  \\\n",
      "0  tt0315642         Wazir          Wazir        2016            103.0   \n",
      "1  tt0337692   On the Road    On the Road        2012            124.0   \n",
      "2  tt2404548   On the Road    On the Road        2011             90.0   \n",
      "3  tt3872966   On the Road    On the Road        2013             87.0   \n",
      "4  tt4339118   On the Road    On the Road        2014             89.0   \n",
      "\n",
      "                    genres  averagerating  numvotes  title_clean        title  \\\n",
      "0       Action,Crime,Drama            7.1   15378.0        wazir        Wazir   \n",
      "1  Adventure,Drama,Romance            6.1   37886.0  on the road  On the Road   \n",
      "2                    Drama            NaN       NaN  on the road  On the Road   \n",
      "3              Documentary            NaN       NaN  on the road  On the Road   \n",
      "4                    Drama            6.0       6.0  on the road  On the Road   \n",
      "\n",
      "    studio  domestic_gross  foreign_gross  year  \n",
      "0  Relbig.       1100000.0            NaN  2016  \n",
      "1      IFC        744000.0      8000000.0  2012  \n",
      "2      IFC        744000.0      8000000.0  2012  \n",
      "3      IFC        744000.0      8000000.0  2012  \n",
      "4      IFC        744000.0      8000000.0  2012  \n"
     ]
    }
   ],
   "source": [
    "# 1. Merge basics + ratings into full IMDb dataset\n",
    "imdb_full = imdb_basics.merge(imdb_ratings, on=\"movie_id\", how=\"left\")\n",
    "\n",
    "# 2. Create cleaned title column in both datasets\n",
    "imdb_full['title_clean'] = imdb_full['primary_title'].str.lower().str.strip()\n",
    "bom['title_clean'] = bom['title'].str.lower().str.strip()\n",
    "\n",
    "# 3. Check overlap of titles\n",
    "exact_matches = set(imdb_full['title_clean']).intersection(set(bom['title_clean']))\n",
    "print(\"Exact matches:\", len(exact_matches))\n",
    "print(list(exact_matches)[:20])\n",
    "\n",
    "# 4. Merge IMDb + BOM using cleaned titles\n",
    "merged = pd.merge(\n",
    "    imdb_full,\n",
    "    bom,\n",
    "    on=\"title_clean\",\n",
    "    how=\"inner\",\n",
    "    suffixes=('_imdb', '_bom')\n",
    ")\n",
    "\n",
    "print(merged.info())\n",
    "print(merged.head())"
   ]
  },
  {
   "cell_type": "markdown",
   "metadata": {},
   "source": [
    "This dataset shows the results of matching IMDb movie information with box office and studio data. Out of the merged records, there are 2,701 exact title matches, including films like Beastly, Captain Underpants: The First Epic Movie, and First Man. After merging, the final dataset contains 3,487 movies with details such as title, release year, runtime, genres, ratings, number of votes, studio, and domestic/foreign gross. Most fields are well populated, though some, like runtime_minutes, averagerating, and foreign_gross, have missing values. The preview also illustrates cases where multiple entries exist for the same title (On the Road appears in several years with different runtimes and genres), showing the complexity of handling remakes, re-releases, or duplicate entries when analyzing the data."
   ]
  },
  {
   "cell_type": "markdown",
   "metadata": {},
   "source": [
    "We fill the missing values with genre median"
   ]
  },
  {
   "cell_type": "code",
   "execution_count": 52,
   "metadata": {},
   "outputs": [],
   "source": [
    "imdb_full['runtime_minutes'] = imdb_full.groupby('genres')['runtime_minutes'].transform(\n",
    "    lambda x: x.fillna(x.median())\n",
    ")"
   ]
  },
  {
   "cell_type": "code",
   "execution_count": null,
   "metadata": {},
   "outputs": [],
   "source": [
    "Verifying Cleaning"
   ]
  },
  {
   "cell_type": "code",
   "execution_count": 53,
   "metadata": {},
   "outputs": [
    {
     "name": "stdout",
     "output_type": "stream",
     "text": [
      "movie_id               0\n",
      "primary_title          0\n",
      "original_title        21\n",
      "start_year             0\n",
      "runtime_minutes       57\n",
      "genres                 0\n",
      "averagerating      72288\n",
      "numvotes           72288\n",
      "title_clean            0\n",
      "dtype: int64\n"
     ]
    }
   ],
   "source": [
    "print(imdb_full.isnull().sum())"
   ]
  },
  {
   "cell_type": "code",
   "execution_count": null,
   "metadata": {},
   "outputs": [],
   "source": [
    "Our Data looks better, but lets do further cleaning"
   ]
  },
  {
   "cell_type": "code",
   "execution_count": 54,
   "metadata": {},
   "outputs": [],
   "source": [
    "imdb_full['original_title'] = imdb_full['original_title'].fillna(imdb_full['primary_title'])"
   ]
  },
  {
   "cell_type": "markdown",
   "metadata": {},
   "source": [
    "For runtime_minutes       57"
   ]
  },
  {
   "cell_type": "code",
   "execution_count": 56,
   "metadata": {},
   "outputs": [],
   "source": [
    "imdb_full['runtime_minutes'] = imdb_full['runtime_minutes'].fillna(\n",
    "    imdb_full['runtime_minutes'].median()\n",
    ")"
   ]
  },
  {
   "cell_type": "code",
   "execution_count": 57,
   "metadata": {},
   "outputs": [
    {
     "name": "stdout",
     "output_type": "stream",
     "text": [
      "movie_id               0\n",
      "primary_title          0\n",
      "original_title         0\n",
      "start_year             0\n",
      "runtime_minutes        0\n",
      "genres                 0\n",
      "averagerating      72288\n",
      "numvotes           72288\n",
      "title_clean            0\n",
      "dtype: int64\n"
     ]
    }
   ],
   "source": [
    "print(imdb_full.isnull().sum())"
   ]
  },
  {
   "cell_type": "markdown",
   "metadata": {},
   "source": [
    "Average rating - 72,288 missing\n",
    "\n",
    "Numvotes - 72,288 missing\n",
    "\n",
    "This is large (98% of our dataset). \n",
    "\n",
    "This likely comes from movies in movie_basics that don’t have ratings in movie_ratings"
   ]
  },
  {
   "cell_type": "markdown",
   "metadata": {},
   "source": [
    "We drop them"
   ]
  },
  {
   "cell_type": "code",
   "execution_count": 58,
   "metadata": {},
   "outputs": [
    {
     "name": "stdout",
     "output_type": "stream",
     "text": [
      "movie_id           0\n",
      "primary_title      0\n",
      "original_title     0\n",
      "start_year         0\n",
      "runtime_minutes    0\n",
      "genres             0\n",
      "averagerating      0\n",
      "numvotes           0\n",
      "title_clean        0\n",
      "dtype: int64\n"
     ]
    }
   ],
   "source": [
    "imdb_full = imdb_full.dropna(subset=['averagerating', 'numvotes'])\n",
    "\n",
    "print(imdb_full.isnull().sum())"
   ]
  },
  {
   "cell_type": "markdown",
   "metadata": {},
   "source": [
    "Awsome"
   ]
  },
  {
   "cell_type": "markdown",
   "metadata": {},
   "source": [
    "**Cleaning of The Movie Db**"
   ]
  },
  {
   "cell_type": "code",
   "execution_count": 61,
   "metadata": {},
   "outputs": [
    {
     "name": "stdout",
     "output_type": "stream",
     "text": [
      "(26517, 10)\n",
      "Index(['Unnamed: 0', 'genre_ids', 'id', 'original_language', 'original_title',\n",
      "       'popularity', 'release_date', 'title', 'vote_average', 'vote_count'],\n",
      "      dtype='object')\n",
      "   Unnamed: 0            genre_ids     id original_language  \\\n",
      "0           0      [12, 14, 10751]  12444                en   \n",
      "1           1  [14, 12, 16, 10751]  10191                en   \n",
      "2           2        [12, 28, 878]  10138                en   \n",
      "3           3      [16, 35, 10751]    862                en   \n",
      "4           4        [28, 878, 12]  27205                en   \n",
      "\n",
      "                                 original_title  popularity release_date  \\\n",
      "0  Harry Potter and the Deathly Hallows: Part 1      33.533   2010-11-19   \n",
      "1                      How to Train Your Dragon      28.734   2010-03-26   \n",
      "2                                    Iron Man 2      28.515   2010-05-07   \n",
      "3                                     Toy Story      28.005   1995-11-22   \n",
      "4                                     Inception      27.920   2010-07-16   \n",
      "\n",
      "                                          title  vote_average  vote_count  \n",
      "0  Harry Potter and the Deathly Hallows: Part 1           7.7       10788  \n",
      "1                      How to Train Your Dragon           7.7        7610  \n",
      "2                                    Iron Man 2           6.8       12368  \n",
      "3                                     Toy Story           7.9       10174  \n",
      "4                                     Inception           8.3       22186  \n",
      "<class 'pandas.core.frame.DataFrame'>\n",
      "RangeIndex: 26517 entries, 0 to 26516\n",
      "Data columns (total 10 columns):\n",
      " #   Column             Non-Null Count  Dtype  \n",
      "---  ------             --------------  -----  \n",
      " 0   Unnamed: 0         26517 non-null  int64  \n",
      " 1   genre_ids          26517 non-null  object \n",
      " 2   id                 26517 non-null  int64  \n",
      " 3   original_language  26517 non-null  object \n",
      " 4   original_title     26517 non-null  object \n",
      " 5   popularity         26517 non-null  float64\n",
      " 6   release_date       26517 non-null  object \n",
      " 7   title              26517 non-null  object \n",
      " 8   vote_average       26517 non-null  float64\n",
      " 9   vote_count         26517 non-null  int64  \n",
      "dtypes: float64(2), int64(3), object(5)\n",
      "memory usage: 2.0+ MB\n",
      "None\n",
      "Unnamed: 0           0\n",
      "genre_ids            0\n",
      "id                   0\n",
      "original_language    0\n",
      "original_title       0\n",
      "popularity           0\n",
      "release_date         0\n",
      "title                0\n",
      "vote_average         0\n",
      "vote_count           0\n",
      "dtype: int64\n"
     ]
    }
   ],
   "source": [
    "print(tmdb.shape)\n",
    "print(tmdb.columns)\n",
    "print(tmdb.head())\n",
    "print(tmdb.info())\n",
    "print(tmdb.isna().sum())"
   ]
  },
  {
   "cell_type": "markdown",
   "metadata": {},
   "source": [
    "The dataset contains 26,517 movie entries with 10 columns. All fields are complete with no missing values, which means the dataset is clean and ready for analysis. The available variables provide rich information, including movie identifiers (id), titles (title, original_title), genres (genre_ids), language, release date, popularity score, and user engagement metrics (vote_average, vote_count). Since there are no null values, no major cleaning is required, and analysis can focus on exploring trends in popularity, ratings, languages, or genre distributions."
   ]
  },
  {
   "cell_type": "markdown",
   "metadata": {},
   "source": [
    "**Data Merging**\n",
    "\n",
    "Before merging, we need titles and years in the same format across IMDB and BOM"
   ]
  },
  {
   "cell_type": "markdown",
   "metadata": {},
   "source": [
    "**To Merge we first Create a title_clean column**"
   ]
  },
  {
   "cell_type": "code",
   "execution_count": 73,
   "metadata": {},
   "outputs": [
    {
     "name": "stdout",
     "output_type": "stream",
     "text": [
      "                     primary_title                      title_clean\n",
      "0                        Sunghursh                        sunghursh\n",
      "1  One Day Before the Rainy Season  one day before the rainy season\n",
      "2       The Other Side of the Wind       the other side of the wind\n",
      "3                  Sabse Bada Sukh                  sabse bada sukh\n",
      "4         The Wandering Soap Opera         the wandering soap opera\n",
      "                                         title  \\\n",
      "0                                  toy story 3   \n",
      "1                   alice in wonderland (2010)   \n",
      "2  harry potter and the deathly hallows part 1   \n",
      "3                                    inception   \n",
      "4                          shrek forever after   \n",
      "\n",
      "                                   title_clean  \n",
      "0                                  toy story 3  \n",
      "1                          alice in wonderland  \n",
      "2  harry potter and the deathly hallows part 1  \n",
      "3                                    inception  \n",
      "4                          shrek forever after  \n"
     ]
    }
   ],
   "source": [
    "import re\n",
    "\n",
    "def clean_title(title):\n",
    "    if pd.isna(title):\n",
    "        return \"\"\n",
    "    title = title.lower().strip()\n",
    "    title = re.sub(r\"\\(.*\\)\", \"\", title)  # remove things in brackets e.g. (2010)\n",
    "    title = re.sub(r\"[^a-z0-9 ]\", \"\", title)  # keep only alphanumeric + space\n",
    "    return title.strip()\n",
    "\n",
    "# Apply cleaning\n",
    "imdb_full[\"title_clean\"] = imdb_full[\"primary_title\"].apply(clean_title)\n",
    "bom[\"title_clean\"] = bom[\"title\"].apply(clean_title)\n",
    "\n",
    "# Preview\n",
    "print(imdb_full[[\"primary_title\", \"title_clean\"]].head())\n",
    "print(bom[[\"title\", \"title_clean\"]].head())"
   ]
  },
  {
   "cell_type": "code",
   "execution_count": 72,
   "metadata": {},
   "outputs": [
    {
     "name": "stdout",
     "output_type": "stream",
     "text": [
      "Index(['movie_id', 'primary_title', 'original_title', 'start_year',\n",
      "       'runtime_minutes', 'genres', 'averagerating', 'numvotes',\n",
      "       'title_clean'],\n",
      "      dtype='object')\n"
     ]
    }
   ],
   "source": [
    "print(imdb_full.columns)"
   ]
  },
  {
   "cell_type": "markdown",
   "metadata": {},
   "source": [
    "**Our Dataset is now ready to merge (IMDB and BOM)**"
   ]
  },
  {
   "cell_type": "code",
   "execution_count": 76,
   "metadata": {},
   "outputs": [
    {
     "name": "stdout",
     "output_type": "stream",
     "text": [
      "(2172, 14)\n"
     ]
    },
    {
     "data": {
      "text/html": [
       "<div>\n",
       "<style scoped>\n",
       "    .dataframe tbody tr th:only-of-type {\n",
       "        vertical-align: middle;\n",
       "    }\n",
       "\n",
       "    .dataframe tbody tr th {\n",
       "        vertical-align: top;\n",
       "    }\n",
       "\n",
       "    .dataframe thead th {\n",
       "        text-align: right;\n",
       "    }\n",
       "</style>\n",
       "<table border=\"1\" class=\"dataframe\">\n",
       "  <thead>\n",
       "    <tr style=\"text-align: right;\">\n",
       "      <th></th>\n",
       "      <th>movie_id</th>\n",
       "      <th>primary_title</th>\n",
       "      <th>original_title</th>\n",
       "      <th>start_year</th>\n",
       "      <th>runtime_minutes</th>\n",
       "      <th>genres</th>\n",
       "      <th>averagerating</th>\n",
       "      <th>numvotes</th>\n",
       "      <th>title_clean</th>\n",
       "      <th>title</th>\n",
       "      <th>studio</th>\n",
       "      <th>domestic_gross</th>\n",
       "      <th>foreign_gross</th>\n",
       "      <th>year</th>\n",
       "    </tr>\n",
       "  </thead>\n",
       "  <tbody>\n",
       "    <tr>\n",
       "      <th>0</th>\n",
       "      <td>tt0315642</td>\n",
       "      <td>Wazir</td>\n",
       "      <td>Wazir</td>\n",
       "      <td>2016</td>\n",
       "      <td>103.0</td>\n",
       "      <td>Action,Crime,Drama</td>\n",
       "      <td>7.1</td>\n",
       "      <td>15378.0</td>\n",
       "      <td>wazir</td>\n",
       "      <td>wazir</td>\n",
       "      <td>Relbig.</td>\n",
       "      <td>1100000.0</td>\n",
       "      <td>NaN</td>\n",
       "      <td>2016</td>\n",
       "    </tr>\n",
       "    <tr>\n",
       "      <th>1</th>\n",
       "      <td>tt0337692</td>\n",
       "      <td>On the Road</td>\n",
       "      <td>On the Road</td>\n",
       "      <td>2012</td>\n",
       "      <td>124.0</td>\n",
       "      <td>Adventure,Drama,Romance</td>\n",
       "      <td>6.1</td>\n",
       "      <td>37886.0</td>\n",
       "      <td>on the road</td>\n",
       "      <td>on the road</td>\n",
       "      <td>IFC</td>\n",
       "      <td>744000.0</td>\n",
       "      <td>8000000.0</td>\n",
       "      <td>2012</td>\n",
       "    </tr>\n",
       "    <tr>\n",
       "      <th>2</th>\n",
       "      <td>tt0359950</td>\n",
       "      <td>The Secret Life of Walter Mitty</td>\n",
       "      <td>The Secret Life of Walter Mitty</td>\n",
       "      <td>2013</td>\n",
       "      <td>114.0</td>\n",
       "      <td>Adventure,Comedy,Drama</td>\n",
       "      <td>7.3</td>\n",
       "      <td>275300.0</td>\n",
       "      <td>the secret life of walter mitty</td>\n",
       "      <td>the secret life of walter mitty</td>\n",
       "      <td>Fox</td>\n",
       "      <td>58200000.0</td>\n",
       "      <td>129900000.0</td>\n",
       "      <td>2013</td>\n",
       "    </tr>\n",
       "    <tr>\n",
       "      <th>3</th>\n",
       "      <td>tt0365907</td>\n",
       "      <td>A Walk Among the Tombstones</td>\n",
       "      <td>A Walk Among the Tombstones</td>\n",
       "      <td>2014</td>\n",
       "      <td>114.0</td>\n",
       "      <td>Action,Crime,Drama</td>\n",
       "      <td>6.5</td>\n",
       "      <td>105116.0</td>\n",
       "      <td>a walk among the tombstones</td>\n",
       "      <td>a walk among the tombstones</td>\n",
       "      <td>Uni.</td>\n",
       "      <td>26300000.0</td>\n",
       "      <td>26900000.0</td>\n",
       "      <td>2014</td>\n",
       "    </tr>\n",
       "    <tr>\n",
       "      <th>4</th>\n",
       "      <td>tt0369610</td>\n",
       "      <td>Jurassic World</td>\n",
       "      <td>Jurassic World</td>\n",
       "      <td>2015</td>\n",
       "      <td>124.0</td>\n",
       "      <td>Action,Adventure,Sci-Fi</td>\n",
       "      <td>7.0</td>\n",
       "      <td>539338.0</td>\n",
       "      <td>jurassic world</td>\n",
       "      <td>jurassic world</td>\n",
       "      <td>Uni.</td>\n",
       "      <td>65230000.0</td>\n",
       "      <td>10194.0</td>\n",
       "      <td>2015</td>\n",
       "    </tr>\n",
       "  </tbody>\n",
       "</table>\n",
       "</div>"
      ],
      "text/plain": [
       "    movie_id                    primary_title  \\\n",
       "0  tt0315642                            Wazir   \n",
       "1  tt0337692                      On the Road   \n",
       "2  tt0359950  The Secret Life of Walter Mitty   \n",
       "3  tt0365907      A Walk Among the Tombstones   \n",
       "4  tt0369610                   Jurassic World   \n",
       "\n",
       "                    original_title  start_year  runtime_minutes  \\\n",
       "0                            Wazir        2016            103.0   \n",
       "1                      On the Road        2012            124.0   \n",
       "2  The Secret Life of Walter Mitty        2013            114.0   \n",
       "3      A Walk Among the Tombstones        2014            114.0   \n",
       "4                   Jurassic World        2015            124.0   \n",
       "\n",
       "                    genres  averagerating  numvotes  \\\n",
       "0       Action,Crime,Drama            7.1   15378.0   \n",
       "1  Adventure,Drama,Romance            6.1   37886.0   \n",
       "2   Adventure,Comedy,Drama            7.3  275300.0   \n",
       "3       Action,Crime,Drama            6.5  105116.0   \n",
       "4  Action,Adventure,Sci-Fi            7.0  539338.0   \n",
       "\n",
       "                       title_clean                            title   studio  \\\n",
       "0                            wazir                            wazir  Relbig.   \n",
       "1                      on the road                      on the road      IFC   \n",
       "2  the secret life of walter mitty  the secret life of walter mitty      Fox   \n",
       "3      a walk among the tombstones      a walk among the tombstones     Uni.   \n",
       "4                   jurassic world                   jurassic world     Uni.   \n",
       "\n",
       "   domestic_gross  foreign_gross  year  \n",
       "0       1100000.0            NaN  2016  \n",
       "1        744000.0      8000000.0  2012  \n",
       "2      58200000.0    129900000.0  2013  \n",
       "3      26300000.0     26900000.0  2014  \n",
       "4      65230000.0        10194.0  2015  "
      ]
     },
     "execution_count": 76,
     "metadata": {},
     "output_type": "execute_result"
    }
   ],
   "source": [
    "imdb_bom = pd.merge(\n",
    "    imdb_full,\n",
    "    bom,\n",
    "    left_on=[\"title_clean\", \"start_year\"],   # use start_year here\n",
    "    right_on=[\"title_clean\", \"year\"],        # bom still has year\n",
    "    how=\"inner\"\n",
    ")\n",
    "\n",
    "print(imdb_bom.shape)\n",
    "imdb_bom.head()"
   ]
  },
  {
   "cell_type": "markdown",
   "metadata": {},
   "source": [
    "**Now to complet our merge, we merge TMDB, by first making a title_clean column like we did for IMDb & BOM, and extract the year from release_date.**"
   ]
  },
  {
   "cell_type": "code",
   "execution_count": 78,
   "metadata": {},
   "outputs": [
    {
     "name": "stdout",
     "output_type": "stream",
     "text": [
      "                                          title  \\\n",
      "0  Harry Potter and the Deathly Hallows: Part 1   \n",
      "1                      How to Train Your Dragon   \n",
      "2                                    Iron Man 2   \n",
      "3                                     Toy Story   \n",
      "4                                     Inception   \n",
      "\n",
      "                                   title_clean  year  \n",
      "0  harry potter and the deathly hallows part 1  2010  \n",
      "1                     how to train your dragon  2010  \n",
      "2                                   iron man 2  2010  \n",
      "3                                    toy story  1995  \n",
      "4                                    inception  2010  \n"
     ]
    }
   ],
   "source": [
    "# Clean title\n",
    "tmdb[\"title_clean\"] = tmdb[\"title\"].apply(clean_title)\n",
    "\n",
    "# Extract year from release_date\n",
    "tmdb[\"year\"] = pd.to_datetime(tmdb[\"release_date\"], errors=\"coerce\").dt.year\n",
    "\n",
    "print(tmdb[[\"title\", \"title_clean\", \"year\"]].head())"
   ]
  },
  {
   "cell_type": "code",
   "execution_count": 79,
   "metadata": {},
   "outputs": [
    {
     "name": "stdout",
     "output_type": "stream",
     "text": [
      "(2056, 24)\n"
     ]
    },
    {
     "data": {
      "text/html": [
       "<div>\n",
       "<style scoped>\n",
       "    .dataframe tbody tr th:only-of-type {\n",
       "        vertical-align: middle;\n",
       "    }\n",
       "\n",
       "    .dataframe tbody tr th {\n",
       "        vertical-align: top;\n",
       "    }\n",
       "\n",
       "    .dataframe thead th {\n",
       "        text-align: right;\n",
       "    }\n",
       "</style>\n",
       "<table border=\"1\" class=\"dataframe\">\n",
       "  <thead>\n",
       "    <tr style=\"text-align: right;\">\n",
       "      <th></th>\n",
       "      <th>movie_id</th>\n",
       "      <th>primary_title</th>\n",
       "      <th>original_title_imdbbom</th>\n",
       "      <th>start_year</th>\n",
       "      <th>runtime_minutes</th>\n",
       "      <th>genres</th>\n",
       "      <th>averagerating</th>\n",
       "      <th>numvotes</th>\n",
       "      <th>title_clean</th>\n",
       "      <th>title_imdbbom</th>\n",
       "      <th>...</th>\n",
       "      <th>Unnamed: 0</th>\n",
       "      <th>genre_ids</th>\n",
       "      <th>id</th>\n",
       "      <th>original_language</th>\n",
       "      <th>original_title_tmdb</th>\n",
       "      <th>popularity</th>\n",
       "      <th>release_date</th>\n",
       "      <th>title_tmdb</th>\n",
       "      <th>vote_average</th>\n",
       "      <th>vote_count</th>\n",
       "    </tr>\n",
       "  </thead>\n",
       "  <tbody>\n",
       "    <tr>\n",
       "      <th>0</th>\n",
       "      <td>tt0315642</td>\n",
       "      <td>Wazir</td>\n",
       "      <td>Wazir</td>\n",
       "      <td>2016</td>\n",
       "      <td>103.0</td>\n",
       "      <td>Action,Crime,Drama</td>\n",
       "      <td>7.1</td>\n",
       "      <td>15378.0</td>\n",
       "      <td>wazir</td>\n",
       "      <td>wazir</td>\n",
       "      <td>...</td>\n",
       "      <td>18152</td>\n",
       "      <td>[53, 28, 80, 18, 9648]</td>\n",
       "      <td>275269</td>\n",
       "      <td>hi</td>\n",
       "      <td>वज़ीर</td>\n",
       "      <td>3.881</td>\n",
       "      <td>2016-01-08</td>\n",
       "      <td>Wazir</td>\n",
       "      <td>6.6</td>\n",
       "      <td>63</td>\n",
       "    </tr>\n",
       "    <tr>\n",
       "      <th>1</th>\n",
       "      <td>tt0337692</td>\n",
       "      <td>On the Road</td>\n",
       "      <td>On the Road</td>\n",
       "      <td>2012</td>\n",
       "      <td>124.0</td>\n",
       "      <td>Adventure,Drama,Romance</td>\n",
       "      <td>6.1</td>\n",
       "      <td>37886.0</td>\n",
       "      <td>on the road</td>\n",
       "      <td>on the road</td>\n",
       "      <td>...</td>\n",
       "      <td>5350</td>\n",
       "      <td>[12, 18]</td>\n",
       "      <td>83770</td>\n",
       "      <td>en</td>\n",
       "      <td>On the Road</td>\n",
       "      <td>8.919</td>\n",
       "      <td>2012-12-21</td>\n",
       "      <td>On the Road</td>\n",
       "      <td>5.6</td>\n",
       "      <td>518</td>\n",
       "    </tr>\n",
       "    <tr>\n",
       "      <th>2</th>\n",
       "      <td>tt0359950</td>\n",
       "      <td>The Secret Life of Walter Mitty</td>\n",
       "      <td>The Secret Life of Walter Mitty</td>\n",
       "      <td>2013</td>\n",
       "      <td>114.0</td>\n",
       "      <td>Adventure,Comedy,Drama</td>\n",
       "      <td>7.3</td>\n",
       "      <td>275300.0</td>\n",
       "      <td>the secret life of walter mitty</td>\n",
       "      <td>the secret life of walter mitty</td>\n",
       "      <td>...</td>\n",
       "      <td>7998</td>\n",
       "      <td>[12, 35, 18, 14]</td>\n",
       "      <td>116745</td>\n",
       "      <td>en</td>\n",
       "      <td>The Secret Life of Walter Mitty</td>\n",
       "      <td>10.743</td>\n",
       "      <td>2013-12-25</td>\n",
       "      <td>The Secret Life of Walter Mitty</td>\n",
       "      <td>7.1</td>\n",
       "      <td>4859</td>\n",
       "    </tr>\n",
       "    <tr>\n",
       "      <th>3</th>\n",
       "      <td>tt0365907</td>\n",
       "      <td>A Walk Among the Tombstones</td>\n",
       "      <td>A Walk Among the Tombstones</td>\n",
       "      <td>2014</td>\n",
       "      <td>114.0</td>\n",
       "      <td>Action,Crime,Drama</td>\n",
       "      <td>6.5</td>\n",
       "      <td>105116.0</td>\n",
       "      <td>a walk among the tombstones</td>\n",
       "      <td>a walk among the tombstones</td>\n",
       "      <td>...</td>\n",
       "      <td>11053</td>\n",
       "      <td>[80, 18, 9648, 53]</td>\n",
       "      <td>169917</td>\n",
       "      <td>en</td>\n",
       "      <td>A Walk Among the Tombstones</td>\n",
       "      <td>19.373</td>\n",
       "      <td>2014-09-19</td>\n",
       "      <td>A Walk Among the Tombstones</td>\n",
       "      <td>6.3</td>\n",
       "      <td>1685</td>\n",
       "    </tr>\n",
       "    <tr>\n",
       "      <th>4</th>\n",
       "      <td>tt0369610</td>\n",
       "      <td>Jurassic World</td>\n",
       "      <td>Jurassic World</td>\n",
       "      <td>2015</td>\n",
       "      <td>124.0</td>\n",
       "      <td>Action,Adventure,Sci-Fi</td>\n",
       "      <td>7.0</td>\n",
       "      <td>539338.0</td>\n",
       "      <td>jurassic world</td>\n",
       "      <td>jurassic world</td>\n",
       "      <td>...</td>\n",
       "      <td>14193</td>\n",
       "      <td>[28, 12, 878, 53]</td>\n",
       "      <td>135397</td>\n",
       "      <td>en</td>\n",
       "      <td>Jurassic World</td>\n",
       "      <td>20.709</td>\n",
       "      <td>2015-06-12</td>\n",
       "      <td>Jurassic World</td>\n",
       "      <td>6.6</td>\n",
       "      <td>14056</td>\n",
       "    </tr>\n",
       "  </tbody>\n",
       "</table>\n",
       "<p>5 rows × 24 columns</p>\n",
       "</div>"
      ],
      "text/plain": [
       "    movie_id                    primary_title  \\\n",
       "0  tt0315642                            Wazir   \n",
       "1  tt0337692                      On the Road   \n",
       "2  tt0359950  The Secret Life of Walter Mitty   \n",
       "3  tt0365907      A Walk Among the Tombstones   \n",
       "4  tt0369610                   Jurassic World   \n",
       "\n",
       "            original_title_imdbbom  start_year  runtime_minutes  \\\n",
       "0                            Wazir        2016            103.0   \n",
       "1                      On the Road        2012            124.0   \n",
       "2  The Secret Life of Walter Mitty        2013            114.0   \n",
       "3      A Walk Among the Tombstones        2014            114.0   \n",
       "4                   Jurassic World        2015            124.0   \n",
       "\n",
       "                    genres  averagerating  numvotes  \\\n",
       "0       Action,Crime,Drama            7.1   15378.0   \n",
       "1  Adventure,Drama,Romance            6.1   37886.0   \n",
       "2   Adventure,Comedy,Drama            7.3  275300.0   \n",
       "3       Action,Crime,Drama            6.5  105116.0   \n",
       "4  Action,Adventure,Sci-Fi            7.0  539338.0   \n",
       "\n",
       "                       title_clean                    title_imdbbom  ...  \\\n",
       "0                            wazir                            wazir  ...   \n",
       "1                      on the road                      on the road  ...   \n",
       "2  the secret life of walter mitty  the secret life of walter mitty  ...   \n",
       "3      a walk among the tombstones      a walk among the tombstones  ...   \n",
       "4                   jurassic world                   jurassic world  ...   \n",
       "\n",
       "  Unnamed: 0               genre_ids      id  original_language  \\\n",
       "0      18152  [53, 28, 80, 18, 9648]  275269                 hi   \n",
       "1       5350                [12, 18]   83770                 en   \n",
       "2       7998        [12, 35, 18, 14]  116745                 en   \n",
       "3      11053      [80, 18, 9648, 53]  169917                 en   \n",
       "4      14193       [28, 12, 878, 53]  135397                 en   \n",
       "\n",
       "               original_title_tmdb popularity  release_date  \\\n",
       "0                            वज़ीर      3.881    2016-01-08   \n",
       "1                      On the Road      8.919    2012-12-21   \n",
       "2  The Secret Life of Walter Mitty     10.743    2013-12-25   \n",
       "3      A Walk Among the Tombstones     19.373    2014-09-19   \n",
       "4                   Jurassic World     20.709    2015-06-12   \n",
       "\n",
       "                        title_tmdb vote_average  vote_count  \n",
       "0                            Wazir          6.6          63  \n",
       "1                      On the Road          5.6         518  \n",
       "2  The Secret Life of Walter Mitty          7.1        4859  \n",
       "3      A Walk Among the Tombstones          6.3        1685  \n",
       "4                   Jurassic World          6.6       14056  \n",
       "\n",
       "[5 rows x 24 columns]"
      ]
     },
     "execution_count": 79,
     "metadata": {},
     "output_type": "execute_result"
    }
   ],
   "source": [
    "imdb_bom_tmdb = pd.merge(\n",
    "    imdb_bom,\n",
    "    tmdb,\n",
    "    on=[\"title_clean\", \"year\"],\n",
    "    how=\"inner\",\n",
    "    suffixes=(\"_imdbbom\", \"_tmdb\")\n",
    ")\n",
    "\n",
    "print(imdb_bom_tmdb.shape)\n",
    "imdb_bom_tmdb.head()"
   ]
  },
  {
   "cell_type": "markdown",
   "metadata": {},
   "source": [
    "**EDA ON OUR MERGERD DATASET**\n",
    "\n",
    "**Step 1** Create worldwide_gross"
   ]
  },
  {
   "cell_type": "code",
   "execution_count": 81,
   "metadata": {},
   "outputs": [],
   "source": [
    "imdb_bom_tmdb[\"domestic_gross\"] = pd.to_numeric(imdb_bom_tmdb[\"domestic_gross\"], errors=\"coerce\")\n",
    "imdb_bom_tmdb[\"foreign_gross\"] = pd.to_numeric(imdb_bom_tmdb[\"foreign_gross\"], errors=\"coerce\")\n",
    "\n",
    "imdb_bom_tmdb[\"worldwide_gross\"] = (\n",
    "    imdb_bom_tmdb[\"domestic_gross\"].fillna(0) + \n",
    "    imdb_bom_tmdb[\"foreign_gross\"].fillna(0)\n",
    ")"
   ]
  },
  {
   "cell_type": "markdown",
   "metadata": {},
   "source": [
    "**Step 2** Check Missing Values in Key Columns"
   ]
  },
  {
   "cell_type": "code",
   "execution_count": 82,
   "metadata": {},
   "outputs": [
    {
     "data": {
      "text/plain": [
       "domestic_gross       8\n",
       "foreign_gross      529\n",
       "worldwide_gross      0\n",
       "dtype: int64"
      ]
     },
     "execution_count": 82,
     "metadata": {},
     "output_type": "execute_result"
    }
   ],
   "source": [
    "imdb_bom_tmdb[[\"domestic_gross\", \"foreign_gross\", \"worldwide_gross\"]].isna().sum()"
   ]
  },
  {
   "cell_type": "markdown",
   "metadata": {},
   "source": [
    "Domestic_gross - only 8 missing values\n",
    "\n",
    "Foreign_gross -530 missing values (not surprising, many films don’t report intl gross)\n",
    "\n",
    "Worldwide_gross -no missing values (we filled NaNs with 0)"
   ]
  },
  {
   "cell_type": "markdown",
   "metadata": {},
   "source": [
    "For our analysis:\n",
    "\n",
    "We will keep all movies, but keep in mind that worldwide_gross for missing foreign data = domestic_gross only.\n",
    "\n",
    "Later, when we compare international vs domestic performance, we will filter out movies with missing foreign_gross."
   ]
  },
  {
   "cell_type": "markdown",
   "metadata": {},
   "source": [
    "**Step 3**  Perform Basic Stats"
   ]
  },
  {
   "cell_type": "code",
   "execution_count": 84,
   "metadata": {},
   "outputs": [
    {
     "name": "stdout",
     "output_type": "stream",
     "text": [
      "Worldwide gross (non-zero): 2056\n",
      "Mean worldwide gross: 80122337.15175097\n",
      "Median worldwide gross: 37200000.0\n"
     ]
    }
   ],
   "source": [
    "print(\"Worldwide gross (non-zero):\", (imdb_bom_tmdb[\"worldwide_gross\"] > 0).sum())\n",
    "print(\"Mean worldwide gross:\", imdb_bom_tmdb[\"worldwide_gross\"].mean())\n",
    "print(\"Median worldwide gross:\", imdb_bom_tmdb[\"worldwide_gross\"].median())"
   ]
  },
  {
   "cell_type": "markdown",
   "metadata": {},
   "source": [
    "Now we know the money landscape:\n",
    "\n",
    "Out of our merged dataset, 2,046 movies actually made money.\n",
    "\n",
    "Mean worldwide gross is equivalent to $123M - pulled up by massive blockbusters.\n",
    "\n",
    "Median worldwide gross = $37.6M - shows the “typical” film earns far less than the mean."
   ]
  },
  {
   "cell_type": "markdown",
   "metadata": {},
   "source": [
    "**GENRE CLEANING**"
   ]
  },
  {
   "cell_type": "markdown",
   "metadata": {},
   "source": [
    "**Step 1** Clean & Standardize Genres"
   ]
  }
 ],
 "metadata": {
  "kernelspec": {
   "display_name": "Python (learning-env)",
   "language": "python",
   "name": "learning-env"
  },
  "language_info": {
   "codemirror_mode": {
    "name": "ipython",
    "version": 3
   },
   "file_extension": ".py",
   "mimetype": "text/x-python",
   "name": "python",
   "nbconvert_exporter": "python",
   "pygments_lexer": "ipython3",
   "version": "3.11.7"
  }
 },
 "nbformat": 4,
 "nbformat_minor": 4
}
